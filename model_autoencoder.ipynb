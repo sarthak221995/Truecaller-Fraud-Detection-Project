{
 "cells": [
  {
   "cell_type": "code",
   "execution_count": null,
   "id": "cc1d6a84",
   "metadata": {},
   "outputs": [],
   "source": [
    "from sklearn.preprocessing import StandardScaler\n",
    "from functools import reduce\n",
    "import pandas as pd\n",
    "import config as cfg\n",
    "import numpy as np\n",
    "import matplotlib.pyplot as plt\n",
    "import warnings\n",
    "import torch\n",
    "import torch.nn as nn\n",
    "import torch.optim as optim\n",
    "warnings.filterwarnings('ignore')\n",
    "from sklearn.model_selection import train_test_split"
   ]
  },
  {
   "cell_type": "markdown",
   "id": "a5e55716",
   "metadata": {},
   "source": [
    "# Load Feature Engineer Data"
   ]
  },
  {
   "cell_type": "code",
   "execution_count": 12,
   "id": "72f40983",
   "metadata": {},
   "outputs": [],
   "source": [
    "df = pd.read_csv(cfg.USER_FEATURES_ENG_DATA_PTH)"
   ]
  },
  {
   "cell_type": "code",
   "execution_count": 13,
   "id": "b4809bf8",
   "metadata": {},
   "outputs": [
    {
     "name": "stdout",
     "output_type": "stream",
     "text": [
      "Epoch 1, Train Loss: 0.3833, Val Loss: 0.2383\n",
      "Epoch 2, Train Loss: 0.2698, Val Loss: 0.2069\n",
      "Epoch 3, Train Loss: 0.2434, Val Loss: 0.1920\n",
      "Epoch 4, Train Loss: 0.2337, Val Loss: 0.1853\n",
      "Epoch 5, Train Loss: 0.2270, Val Loss: 0.1816\n",
      "Epoch 6, Train Loss: 0.2237, Val Loss: 0.1803\n",
      "Epoch 7, Train Loss: 0.2193, Val Loss: 0.1792\n",
      "Epoch 8, Train Loss: 0.2179, Val Loss: 0.1744\n",
      "Epoch 9, Train Loss: 0.2152, Val Loss: 0.1729\n",
      "Epoch 10, Train Loss: 0.2122, Val Loss: 0.1684\n",
      "Epoch 11, Train Loss: 0.2116, Val Loss: 0.1673\n",
      "Epoch 12, Train Loss: 0.2099, Val Loss: 0.1668\n",
      "Epoch 13, Train Loss: 0.2088, Val Loss: 0.1590\n",
      "Epoch 14, Train Loss: 0.2081, Val Loss: 0.1607\n",
      "Epoch 15, Train Loss: 0.2075, Val Loss: 0.1574\n",
      "Epoch 16, Train Loss: 0.2058, Val Loss: 0.1630\n",
      "Epoch 17, Train Loss: 0.2059, Val Loss: 0.1614\n",
      "Epoch 18, Train Loss: 0.2047, Val Loss: 0.1587\n",
      "Epoch 19, Train Loss: 0.2049, Val Loss: 0.1596\n",
      "Epoch 20, Train Loss: 0.2037, Val Loss: 0.1577\n",
      "Early stopping triggered.\n",
      "Number of outliers detected: 1300\n"
     ]
    },
    {
     "data": {
      "image/png": "[encoded data removed]",
      "text/plain": [
       "<Figure size 640x480 with 1 Axes>"
      ]
     },
     "metadata": {},
     "output_type": "display_data"
    }
   ],
   "source": [
    "\n",
    "X = df[cfg.USER_FEATURES].fillna(0).values\n",
    "scaler = StandardScaler()\n",
    "X_scaled = scaler.fit_transform(X)\n",
    "\n",
    "# Add Gaussian noise for denoising autoencoder\n",
    "noise_factor = 0.1\n",
    "X_noisy = X_scaled + noise_factor * np.random.normal(loc=0.0, scale=1.0, size=X_scaled.shape)\n",
    "X_noisy = np.clip(X_noisy, -3., 3.)\n",
    "\n",
    "X_train, X_val, X_train_noisy, X_val_noisy = train_test_split(\n",
    "    X_scaled, X_noisy, test_size=0.2, random_state=42\n",
    ")\n",
    "\n",
    "X_train_tensor = torch.tensor(X_train_noisy, dtype=torch.float32)\n",
    "X_val_tensor = torch.tensor(X_val_noisy, dtype=torch.float32)\n",
    "X_train_target_tensor = torch.tensor(X_train, dtype=torch.float32)\n",
    "X_val_target_tensor = torch.tensor(X_val, dtype=torch.float32)\n",
    "\n",
    "# 2. Autoencoder\n",
    "class Autoencoder(nn.Module):\n",
    "    def __init__(self, input_dim):\n",
    "        super().__init__()\n",
    "        self.encoder = nn.Sequential(\n",
    "            nn.Linear(input_dim, 32),\n",
    "            nn.BatchNorm1d(32),\n",
    "            nn.ReLU(),\n",
    "            nn.Dropout(0.3),\n",
    "            nn.Linear(32, 8),\n",
    "            nn.BatchNorm1d(8),\n",
    "            nn.ReLU()\n",
    "        )\n",
    "        self.decoder = nn.Sequential(\n",
    "            nn.Linear(8, 32),\n",
    "            nn.BatchNorm1d(32),\n",
    "            nn.ReLU(),\n",
    "            nn.Dropout(0.3),\n",
    "            nn.Linear(32, input_dim)\n",
    "        )\n",
    "\n",
    "    def forward(self, x):\n",
    "        encoded = self.encoder(x)\n",
    "        return self.decoder(encoded)\n",
    "\n",
    "# 3. Train with early stopping\n",
    "def train_autoencoder(model, X_train, X_val, y_train, y_val, n_epochs=100, patience=5):\n",
    "    optimizer = optim.Adam(model.parameters(), lr=1e-3, weight_decay=1e-4)\n",
    "    criterion = nn.L1Loss()\n",
    "    train_loader = torch.utils.data.DataLoader(\n",
    "        list(zip(X_train, y_train)), batch_size=128, shuffle=True\n",
    "    )\n",
    "\n",
    "    best_model = None\n",
    "    best_val_loss = float('inf')\n",
    "    wait = 0\n",
    "\n",
    "    for epoch in range(n_epochs):\n",
    "        model.train()\n",
    "        train_loss = 0\n",
    "        for noisy_batch, clean_batch in train_loader:\n",
    "            optimizer.zero_grad()\n",
    "            output = model(noisy_batch)\n",
    "            loss = criterion(output, clean_batch)\n",
    "            loss.backward()\n",
    "            optimizer.step()\n",
    "            train_loss += loss.item() * len(noisy_batch)\n",
    "\n",
    "        avg_train_loss = train_loss / len(X_train)\n",
    "\n",
    "        model.eval()\n",
    "        with torch.no_grad():\n",
    "            val_output = model(X_val)\n",
    "            val_loss = criterion(val_output, y_val).item()\n",
    "\n",
    "        print(f\"Epoch {epoch+1}, Train Loss: {avg_train_loss:.4f}, Val Loss: {val_loss:.4f}\")\n",
    "\n",
    "        if val_loss < best_val_loss:\n",
    "            best_val_loss = val_loss\n",
    "            best_model = model.state_dict()\n",
    "            wait = 0\n",
    "        else:\n",
    "            wait += 1\n",
    "            if wait >= patience:\n",
    "                print(\"Early stopping triggered.\")\n",
    "                break\n",
    "\n",
    "    model.load_state_dict(best_model)\n",
    "    return model\n",
    "\n",
    "# 4. Train model\n",
    "input_dim = X_train.shape[1]\n",
    "model = Autoencoder(input_dim)\n",
    "model = train_autoencoder(model, X_train_tensor, X_val_tensor,\n",
    "                          X_train_target_tensor, X_val_target_tensor)\n",
    "\n",
    "# 5. Inference on full data\n",
    "model.eval()\n",
    "X_all_tensor = torch.tensor(X_scaled, dtype=torch.float32)\n",
    "with torch.no_grad():\n",
    "    X_recon = model(X_all_tensor)\n",
    "    recon_errors = torch.mean(torch.abs(X_all_tensor - X_recon), dim=1).numpy()\n",
    "\n",
    "\n",
    "threshold = np.percentile(recon_errors, 95)\n",
    "outliers = recon_errors > threshold\n",
    "\n",
    "print(f\"Number of outliers detected: {outliers.sum()}\")\n",
    "\n",
    "plt.hist(recon_errors, bins=50)\n",
    "plt.axvline(threshold, color='red', linestyle='--')\n",
    "plt.title(\"Reconstruction Error Distribution\")\n",
    "plt.show()\n"
   ]
  },
  {
   "cell_type": "code",
   "execution_count": 14,
   "id": "4844bfe5",
   "metadata": {},
   "outputs": [],
   "source": [
    "thresholds = []\n",
    "for r in recon_errors:\n",
    "    if r > np.percentile(recon_errors, 95):\n",
    "        thresholds.append(-1)\n",
    "    else:\n",
    "        thresholds.append(1)"
   ]
  },
  {
   "cell_type": "code",
   "execution_count": 15,
   "id": "68772749",
   "metadata": {},
   "outputs": [],
   "source": [
    "df['anomaly_score_AE'] = recon_errors\n",
    "df['anomaly_AE'] = thresholds"
   ]
  },
  {
   "cell_type": "code",
   "execution_count": 16,
   "id": "3bc824b3",
   "metadata": {},
   "outputs": [],
   "source": [
    "df.to_csv(cfg.AUTOENCODER_ISOLATION_FOREST_PTH, index=False)"
   ]
  }
 ],
 "metadata": {
  "kernelspec": {
   "display_name": "base",
   "language": "python",
   "name": "python3"
  },
  "language_info": {
   "codemirror_mode": {
    "name": "ipython",
    "version": 3
   },
   "file_extension": ".py",
   "mimetype": "text/x-python",
   "name": "python",
   "nbconvert_exporter": "python",
   "pygments_lexer": "ipython3",
   "version": "3.12.7"
  }
 },
 "nbformat": 4,
 "nbformat_minor": 5
}
