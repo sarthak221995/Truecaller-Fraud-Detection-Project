{
 "cells": [
  {
   "cell_type": "code",
   "execution_count": 2,
   "id": "338d47ba",
   "metadata": {},
   "outputs": [],
   "source": [
    "from sklearn.ensemble import IsolationForest\n",
    "from sklearn.preprocessing import StandardScaler\n",
    "from functools import reduce\n",
    "import pandas as pd\n",
    "import config as cfg\n",
    "import warnings\n",
    "warnings.filterwarnings('ignore')"
   ]
  },
  {
   "cell_type": "markdown",
   "id": "e26ca0d9",
   "metadata": {},
   "source": [
    "# Load Feature Engineer Dataset"
   ]
  },
  {
   "cell_type": "code",
   "execution_count": 3,
   "id": "02df03a6",
   "metadata": {},
   "outputs": [],
   "source": [
    "df = pd.read_csv(cfg.USER_FEATURES_ENG_DATA_PTH)\n"
   ]
  },
  {
   "cell_type": "markdown",
   "id": "997b048e",
   "metadata": {},
   "source": [
    "# Train Islolation Forest"
   ]
  },
  {
   "cell_type": "code",
   "execution_count": 4,
   "id": "ba9b10bc",
   "metadata": {},
   "outputs": [],
   "source": [
    "X = df[cfg.USER_FEATURES].fillna(0)\n",
    "X_scaled = StandardScaler().fit_transform(X)\n",
    "\n",
    "# Train model\n",
    "model = IsolationForest(n_estimators=100, contamination=0.05, random_state=42)\n",
    "model.fit(X_scaled)\n",
    "\n",
    "df['anomaly_score_IF'] = model.decision_function(X_scaled)\n",
    "df['anomaly_IF'] = model.predict(X_scaled)  # -1 for anomaly, 1 for normal"
   ]
  },
  {
   "cell_type": "code",
   "execution_count": 5,
   "id": "7a1ddba7",
   "metadata": {},
   "outputs": [],
   "source": [
    "df.to_csv(cfg.MODEL_ISOLATION_FOREST_PTH, index=False)"
   ]
  },
  {
   "cell_type": "code",
   "execution_count": null,
   "id": "6155ff15",
   "metadata": {},
   "outputs": [],
   "source": []
  }
 ],
 "metadata": {
  "kernelspec": {
   "display_name": "base",
   "language": "python",
   "name": "python3"
  },
  "language_info": {
   "codemirror_mode": {
    "name": "ipython",
    "version": 3
   },
   "file_extension": ".py",
   "mimetype": "text/x-python",
   "name": "python",
   "nbconvert_exporter": "python",
   "pygments_lexer": "ipython3",
   "version": "3.12.7"
  }
 },
 "nbformat": 4,
 "nbformat_minor": 5
}
