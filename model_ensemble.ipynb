{
 "cells": [
  {
   "cell_type": "code",
   "execution_count": 6,
   "id": "4cd179f8",
   "metadata": {},
   "outputs": [],
   "source": [
    "from sklearn.preprocessing import StandardScaler\n",
    "from functools import reduce\n",
    "import pandas as pd\n",
    "import config as cfg\n",
    "import numpy as np\n",
    "import matplotlib.pyplot as plt\n",
    "import warnings\n",
    "warnings.filterwarnings('ignore')\n",
    "from sklearn.model_selection import train_test_split"
   ]
  },
  {
   "cell_type": "markdown",
   "id": "184f6f25",
   "metadata": {},
   "source": [
    "# Ensemble AutoEncoder Model and Isolation Forest Model"
   ]
  },
  {
   "cell_type": "code",
   "execution_count": 7,
   "id": "12d8a2ac",
   "metadata": {},
   "outputs": [],
   "source": [
    "df_if = pd.read_csv(cfg.MODEL_ISOLATION_FOREST_PTH)[['user_id', 'anomaly_score_IF', 'anomaly_IF']]\n",
    "df_ae = pd.read_csv(cfg.AUTOENCODER_ISOLATION_FOREST_PTH)[['user_id', 'anomaly_score_AE', 'anomaly_AE']]"
   ]
  },
  {
   "cell_type": "code",
   "execution_count": 8,
   "id": "84b20afc",
   "metadata": {},
   "outputs": [],
   "source": [
    "df = df_if.merge(df_ae, on='user_id')\n",
    "df['is_anomaly'] = df['anomaly_IF'] + df['anomaly_AE']\n",
    "\n",
    "df['user_risk_grade'] = df['is_anomaly'].map({2: 'Normal', -2: 'Critical Risk', 0: 'Medium Risk'})\n",
    "df['anomaly'] = df['is_anomaly'].map({2: 1, -2: -1, 0: -1})\n",
    "df['critical_anomaly'] = df['is_anomaly'].map({2: 1, -2: -1, 0: 1})"
   ]
  },
  {
   "cell_type": "code",
   "execution_count": 9,
   "id": "d29acb59",
   "metadata": {},
   "outputs": [],
   "source": [
    "df.to_csv(cfg.FINAL_RESULTS_PTH, index=False)"
   ]
  }
 ],
 "metadata": {
  "kernelspec": {
   "display_name": "base",
   "language": "python",
   "name": "python3"
  },
  "language_info": {
   "codemirror_mode": {
    "name": "ipython",
    "version": 3
   },
   "file_extension": ".py",
   "mimetype": "text/x-python",
   "name": "python",
   "nbconvert_exporter": "python",
   "pygments_lexer": "ipython3",
   "version": "3.12.7"
  }
 },
 "nbformat": 4,
 "nbformat_minor": 5
}
